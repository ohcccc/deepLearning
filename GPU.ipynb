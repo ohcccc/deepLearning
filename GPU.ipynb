{
 "cells": [
  {
   "cell_type": "code",
   "execution_count": 13,
   "id": "752ae93e",
   "metadata": {
    "ExecuteTime": {
     "end_time": "2023-07-05T14:01:32.076031Z",
     "start_time": "2023-07-05T14:01:31.991636Z"
    }
   },
   "outputs": [
    {
     "name": "stdout",
     "output_type": "stream",
     "text": [
      "Wed Jul  5 22:01:32 2023       \n",
      "+---------------------------------------------------------------------------------------+\n",
      "| NVIDIA-SMI 536.40                 Driver Version: 536.40       CUDA Version: 12.2     |\n",
      "|-----------------------------------------+----------------------+----------------------+\n",
      "| GPU  Name                     TCC/WDDM  | Bus-Id        Disp.A | Volatile Uncorr. ECC |\n",
      "| Fan  Temp   Perf          Pwr:Usage/Cap |         Memory-Usage | GPU-Util  Compute M. |\n",
      "|                                         |                      |               MIG M. |\n",
      "|=========================================+======================+======================|\n",
      "|   0  NVIDIA GeForce RTX 3060 Ti   WDDM  | 00000000:01:00.0  On |                  N/A |\n",
      "|  0%   46C    P2              61W / 225W |   1194MiB /  8192MiB |      4%      Default |\n",
      "|                                         |                      |                  N/A |\n",
      "+-----------------------------------------+----------------------+----------------------+\n",
      "                                                                                         \n",
      "+---------------------------------------------------------------------------------------+\n",
      "| Processes:                                                                            |\n",
      "|  GPU   GI   CI        PID   Type   Process name                            GPU Memory |\n",
      "|        ID   ID                                                             Usage      |\n",
      "|=======================================================================================|\n",
      "|    0   N/A  N/A      5128    C+G   ...ta\\Local\\Programs\\Notion\\Notion.exe    N/A      |\n",
      "|    0   N/A  N/A      5776    C+G   ...siveControlPanel\\SystemSettings.exe    N/A      |\n",
      "|    0   N/A  N/A      9460    C+G   ...CBS_cw5n1h2txyewy\\TextInputHost.exe    N/A      |\n",
      "|    0   N/A  N/A      9980    C+G   C:\\Windows\\explorer.exe                   N/A      |\n",
      "|    0   N/A  N/A     11032    C+G   ...on\\wallpaper_engine\\wallpaper64.exe    N/A      |\n",
      "|    0   N/A  N/A     11776    C+G   ...GeForce Experience\\NVIDIA Share.exe    N/A      |\n",
      "|    0   N/A  N/A     14324      C   ...naconda\\envs\\pytorch-gpu\\python.exe    N/A      |\n",
      "|    0   N/A  N/A     17648    C+G   ...oogle\\Chrome\\Application\\chrome.exe    N/A      |\n",
      "|    0   N/A  N/A     18636    C+G   ....Search_cw5n1h2txyewy\\SearchApp.exe    N/A      |\n",
      "+---------------------------------------------------------------------------------------+\n"
     ]
    }
   ],
   "source": [
    "!nvidia-smi"
   ]
  },
  {
   "cell_type": "markdown",
   "id": "315909c1",
   "metadata": {},
   "source": [
    "计算设备"
   ]
  },
  {
   "cell_type": "code",
   "execution_count": 2,
   "id": "33fb42da",
   "metadata": {
    "ExecuteTime": {
     "end_time": "2023-07-05T13:55:26.221307Z",
     "start_time": "2023-07-05T13:55:24.793396Z"
    }
   },
   "outputs": [
    {
     "data": {
      "text/plain": [
       "(device(type='cpu'),\n",
       " <torch.cuda.device at 0x204b6387190>,\n",
       " <torch.cuda.device at 0x204b8649490>)"
      ]
     },
     "execution_count": 2,
     "metadata": {},
     "output_type": "execute_result"
    }
   ],
   "source": [
    "import torch\n",
    "from torch import nn\n",
    "\n",
    "torch.device('cpu'),torch.cuda.device('cuda'),torch.cuda.device('cuda:0'),"
   ]
  },
  {
   "cell_type": "markdown",
   "id": "f6503fa1",
   "metadata": {},
   "source": [
    "查询可用gpu数量"
   ]
  },
  {
   "cell_type": "code",
   "execution_count": 3,
   "id": "c4ae4db8",
   "metadata": {
    "ExecuteTime": {
     "end_time": "2023-07-05T13:55:30.943031Z",
     "start_time": "2023-07-05T13:55:30.938466Z"
    }
   },
   "outputs": [
    {
     "data": {
      "text/plain": [
       "1"
      ]
     },
     "execution_count": 3,
     "metadata": {},
     "output_type": "execute_result"
    }
   ],
   "source": [
    "torch.cuda.device_count()"
   ]
  },
  {
   "cell_type": "code",
   "execution_count": 4,
   "id": "31261a3e",
   "metadata": {
    "ExecuteTime": {
     "end_time": "2023-07-05T13:55:32.963215Z",
     "start_time": "2023-07-05T13:55:32.957071Z"
    }
   },
   "outputs": [
    {
     "data": {
      "text/plain": [
       "(device(type='cuda', index=0),\n",
       " device(type='cpu'),\n",
       " [device(type='cuda', index=0)])"
      ]
     },
     "execution_count": 4,
     "metadata": {},
     "output_type": "execute_result"
    }
   ],
   "source": [
    "def try_gpu(i=0):  #@save\n",
    "    \"\"\"如果存在，则返回gpu(i)，否则返回cpu()\"\"\"\n",
    "    if torch.cuda.device_count() >= i + 1:\n",
    "        return torch.device(f'cuda:{i}')\n",
    "    return torch.device('cpu')\n",
    "\n",
    "def try_all_gpus():  #@save\n",
    "    \"\"\"返回所有可用的GPU，如果没有GPU，则返回[cpu(),]\"\"\"\n",
    "    devices = [torch.device(f'cuda:{i}')\n",
    "             for i in range(torch.cuda.device_count())]\n",
    "    return devices if devices else [torch.device('cpu')]\n",
    "\n",
    "try_gpu(), try_gpu(10), try_all_gpus()"
   ]
  },
  {
   "cell_type": "markdown",
   "id": "917e6ba3",
   "metadata": {},
   "source": [
    "查询张量所在设备"
   ]
  },
  {
   "cell_type": "code",
   "execution_count": 20,
   "id": "aadf21ef",
   "metadata": {
    "ExecuteTime": {
     "end_time": "2023-07-05T14:11:55.888459Z",
     "start_time": "2023-07-05T14:11:55.883932Z"
    }
   },
   "outputs": [
    {
     "data": {
      "text/plain": [
       "device(type='cpu')"
      ]
     },
     "execution_count": 20,
     "metadata": {},
     "output_type": "execute_result"
    }
   ],
   "source": [
    "x = torch.tensor([1,2,3])\n",
    "x.device"
   ]
  },
  {
   "cell_type": "markdown",
   "id": "706f825a",
   "metadata": {},
   "source": [
    "存储在GPU"
   ]
  },
  {
   "cell_type": "code",
   "execution_count": 27,
   "id": "426f8581",
   "metadata": {
    "ExecuteTime": {
     "end_time": "2023-07-05T14:16:03.117739Z",
     "start_time": "2023-07-05T14:16:03.111306Z"
    }
   },
   "outputs": [
    {
     "data": {
      "text/plain": [
       "tensor([1., 2., 3.], device='cuda:0')"
      ]
     },
     "execution_count": 27,
     "metadata": {},
     "output_type": "execute_result"
    }
   ],
   "source": [
    "X = torch.tensor([1,2,3],device = try_gpu(),dtype=torch.float32)#\n",
    "X"
   ]
  },
  {
   "cell_type": "code",
   "execution_count": 10,
   "id": "1b16e193",
   "metadata": {
    "ExecuteTime": {
     "end_time": "2023-07-05T14:00:26.368567Z",
     "start_time": "2023-07-05T14:00:26.364003Z"
    }
   },
   "outputs": [
    {
     "data": {
      "text/plain": [
       "tensor([[0.5562, 0.0859, 0.4489],\n",
       "        [0.9830, 0.9834, 0.2425]])"
      ]
     },
     "execution_count": 10,
     "metadata": {},
     "output_type": "execute_result"
    }
   ],
   "source": [
    "Y = torch.rand(2, 3, device=try_gpu(1))#没有第二块gpu，放在了cpu上\n",
    "Y"
   ]
  },
  {
   "cell_type": "markdown",
   "id": "653b9d9b",
   "metadata": {},
   "source": [
    "要计算x+y，我们需要决定在哪里执行"
   ]
  },
  {
   "cell_type": "code",
   "execution_count": 16,
   "id": "289e016a",
   "metadata": {
    "ExecuteTime": {
     "end_time": "2023-07-05T14:03:10.648099Z",
     "start_time": "2023-07-05T14:03:09.514322Z"
    }
   },
   "outputs": [
    {
     "name": "stdout",
     "output_type": "stream",
     "text": [
      "tensor([[0.5562, 0.0859, 0.4489],\n",
      "        [0.9830, 0.9834, 0.2425]])\n",
      "tensor([[0.5562, 0.0859, 0.4489],\n",
      "        [0.9830, 0.9834, 0.2425]], device='cuda:0')\n"
     ]
    }
   ],
   "source": [
    "Z = Y.cuda(0)\n",
    "print(Y)\n",
    "print(Z)"
   ]
  },
  {
   "cell_type": "markdown",
   "id": "f8fc2211",
   "metadata": {},
   "source": [
    "数据都在同一块CPU上，就可以进行相加"
   ]
  },
  {
   "cell_type": "code",
   "execution_count": 17,
   "id": "bdf8cedc",
   "metadata": {
    "ExecuteTime": {
     "end_time": "2023-07-05T14:04:02.433008Z",
     "start_time": "2023-07-05T14:04:02.426887Z"
    }
   },
   "outputs": [
    {
     "data": {
      "text/plain": [
       "tensor([[1.5562, 2.0859, 3.4489],\n",
       "        [1.9830, 2.9834, 3.2425]], device='cuda:0')"
      ]
     },
     "execution_count": 17,
     "metadata": {},
     "output_type": "execute_result"
    }
   ],
   "source": [
    "Z+X"
   ]
  },
  {
   "cell_type": "markdown",
   "id": "6e75ed8a",
   "metadata": {},
   "source": [
    "神经网络与GPU"
   ]
  },
  {
   "cell_type": "code",
   "execution_count": 28,
   "id": "1a3a3544",
   "metadata": {
    "ExecuteTime": {
     "end_time": "2023-07-05T14:16:06.472890Z",
     "start_time": "2023-07-05T14:16:06.458687Z"
    }
   },
   "outputs": [
    {
     "data": {
      "text/plain": [
       "tensor([-2.2752], device='cuda:0', grad_fn=<AddBackward0>)"
      ]
     },
     "execution_count": 28,
     "metadata": {},
     "output_type": "execute_result"
    }
   ],
   "source": [
    "net = nn.Sequential(nn.Linear(3, 1))\n",
    "net = net.to(device=try_gpu())\n",
    "\n",
    "net(X)"
   ]
  },
  {
   "cell_type": "markdown",
   "id": "a55691b4",
   "metadata": {},
   "source": [
    "确认模型和参数在同一个CPU"
   ]
  },
  {
   "cell_type": "code",
   "execution_count": 29,
   "id": "1d8133de",
   "metadata": {
    "ExecuteTime": {
     "end_time": "2023-07-05T14:16:51.332777Z",
     "start_time": "2023-07-05T14:16:51.327427Z"
    }
   },
   "outputs": [
    {
     "data": {
      "text/plain": [
       "tensor([[-0.4690,  0.1198, -0.5633]], device='cuda:0')"
      ]
     },
     "execution_count": 29,
     "metadata": {},
     "output_type": "execute_result"
    }
   ],
   "source": [
    "net[0].weight.data"
   ]
  }
 ],
 "metadata": {
  "kernelspec": {
   "display_name": "pytorch-gpu",
   "language": "python",
   "name": "pytorch-gpu"
  },
  "language_info": {
   "codemirror_mode": {
    "name": "ipython",
    "version": 3
   },
   "file_extension": ".py",
   "mimetype": "text/x-python",
   "name": "python",
   "nbconvert_exporter": "python",
   "pygments_lexer": "ipython3",
   "version": "3.11.3"
  },
  "varInspector": {
   "cols": {
    "lenName": 16,
    "lenType": 16,
    "lenVar": 40
   },
   "kernels_config": {
    "python": {
     "delete_cmd_postfix": "",
     "delete_cmd_prefix": "del ",
     "library": "var_list.py",
     "varRefreshCmd": "print(var_dic_list())"
    },
    "r": {
     "delete_cmd_postfix": ") ",
     "delete_cmd_prefix": "rm(",
     "library": "var_list.r",
     "varRefreshCmd": "cat(var_dic_list()) "
    }
   },
   "types_to_exclude": [
    "module",
    "function",
    "builtin_function_or_method",
    "instance",
    "_Feature"
   ],
   "window_display": true
  }
 },
 "nbformat": 4,
 "nbformat_minor": 5
}
