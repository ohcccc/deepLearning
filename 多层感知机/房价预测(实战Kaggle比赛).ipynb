{
 "cells": [
  {
   "cell_type": "code",
   "execution_count": 24,
   "id": "7f723f73",
   "metadata": {
    "ExecuteTime": {
     "end_time": "2023-06-24T09:07:06.352902Z",
     "start_time": "2023-06-24T09:07:06.067499Z"
    }
   },
   "outputs": [],
   "source": [
    "import pandas as pd\n",
    "import numpy as np\n",
    "import torch\n",
    "from torch import nn\n",
    "from d2l import torch as d2l"
   ]
  },
  {
   "cell_type": "markdown",
   "id": "2aa17df7",
   "metadata": {},
   "source": [
    "加载数据"
   ]
  },
  {
   "cell_type": "code",
   "execution_count": 3,
   "id": "bca77a87",
   "metadata": {
    "ExecuteTime": {
     "end_time": "2023-06-24T06:27:08.483468Z",
     "start_time": "2023-06-24T06:27:08.450613Z"
    }
   },
   "outputs": [],
   "source": [
    "train_data = pd.read_csv('../data/House Prices/train.csv')\n",
    "test_data = pd.read_csv('../data/House Prices/test.csv')"
   ]
  },
  {
   "cell_type": "markdown",
   "id": "0a598dd1",
   "metadata": {},
   "source": [
    "查看数据"
   ]
  },
  {
   "cell_type": "code",
   "execution_count": 4,
   "id": "b201c8ab",
   "metadata": {
    "ExecuteTime": {
     "end_time": "2023-06-24T06:28:34.588777Z",
     "start_time": "2023-06-24T06:28:34.567784Z"
    }
   },
   "outputs": [
    {
     "data": {
      "text/html": [
       "<div>\n",
       "<style scoped>\n",
       "    .dataframe tbody tr th:only-of-type {\n",
       "        vertical-align: middle;\n",
       "    }\n",
       "\n",
       "    .dataframe tbody tr th {\n",
       "        vertical-align: top;\n",
       "    }\n",
       "\n",
       "    .dataframe thead th {\n",
       "        text-align: right;\n",
       "    }\n",
       "</style>\n",
       "<table border=\"1\" class=\"dataframe\">\n",
       "  <thead>\n",
       "    <tr style=\"text-align: right;\">\n",
       "      <th></th>\n",
       "      <th>Id</th>\n",
       "      <th>MSSubClass</th>\n",
       "      <th>MSZoning</th>\n",
       "      <th>LotFrontage</th>\n",
       "      <th>SaleType</th>\n",
       "      <th>SaleCondition</th>\n",
       "      <th>SalePrice</th>\n",
       "    </tr>\n",
       "  </thead>\n",
       "  <tbody>\n",
       "    <tr>\n",
       "      <th>0</th>\n",
       "      <td>1</td>\n",
       "      <td>60</td>\n",
       "      <td>RL</td>\n",
       "      <td>65.0</td>\n",
       "      <td>WD</td>\n",
       "      <td>Normal</td>\n",
       "      <td>208500</td>\n",
       "    </tr>\n",
       "    <tr>\n",
       "      <th>1</th>\n",
       "      <td>2</td>\n",
       "      <td>20</td>\n",
       "      <td>RL</td>\n",
       "      <td>80.0</td>\n",
       "      <td>WD</td>\n",
       "      <td>Normal</td>\n",
       "      <td>181500</td>\n",
       "    </tr>\n",
       "    <tr>\n",
       "      <th>2</th>\n",
       "      <td>3</td>\n",
       "      <td>60</td>\n",
       "      <td>RL</td>\n",
       "      <td>68.0</td>\n",
       "      <td>WD</td>\n",
       "      <td>Normal</td>\n",
       "      <td>223500</td>\n",
       "    </tr>\n",
       "    <tr>\n",
       "      <th>3</th>\n",
       "      <td>4</td>\n",
       "      <td>70</td>\n",
       "      <td>RL</td>\n",
       "      <td>60.0</td>\n",
       "      <td>WD</td>\n",
       "      <td>Abnorml</td>\n",
       "      <td>140000</td>\n",
       "    </tr>\n",
       "  </tbody>\n",
       "</table>\n",
       "</div>"
      ],
      "text/plain": [
       "   Id  MSSubClass MSZoning  LotFrontage SaleType SaleCondition  SalePrice\n",
       "0   1          60       RL         65.0       WD        Normal     208500\n",
       "1   2          20       RL         80.0       WD        Normal     181500\n",
       "2   3          60       RL         68.0       WD        Normal     223500\n",
       "3   4          70       RL         60.0       WD       Abnorml     140000"
      ]
     },
     "execution_count": 4,
     "metadata": {},
     "output_type": "execute_result"
    }
   ],
   "source": [
    "train_data.iloc[0:4,[0,1,2,3,-3,-2,-1]]"
   ]
  },
  {
   "cell_type": "markdown",
   "id": "4d5d312f",
   "metadata": {},
   "source": [
    "每个样本中第一列是id，从数据集中删除"
   ]
  },
  {
   "cell_type": "code",
   "execution_count": 5,
   "id": "9d49e09c",
   "metadata": {
    "ExecuteTime": {
     "end_time": "2023-06-24T06:34:22.645071Z",
     "start_time": "2023-06-24T06:34:22.628072Z"
    }
   },
   "outputs": [],
   "source": [
    "all_features = pd.concat((train_data.iloc[:, 1:-1], test_data.iloc[:, 1:]))\n",
    "#将训练集去除id和标签、测试集去除id连接在一起"
   ]
  },
  {
   "cell_type": "code",
   "execution_count": 11,
   "id": "649cc20f",
   "metadata": {
    "ExecuteTime": {
     "end_time": "2023-06-24T06:49:06.133987Z",
     "start_time": "2023-06-24T06:49:06.118981Z"
    }
   },
   "outputs": [
    {
     "data": {
      "text/plain": [
       "MSSubClass         int64\n",
       "MSZoning          object\n",
       "LotFrontage      float64\n",
       "LotArea            int64\n",
       "Street            object\n",
       "                  ...   \n",
       "MiscVal            int64\n",
       "MoSold             int64\n",
       "YrSold             int64\n",
       "SaleType          object\n",
       "SaleCondition     object\n",
       "Length: 79, dtype: object"
      ]
     },
     "execution_count": 11,
     "metadata": {},
     "output_type": "execute_result"
    }
   ],
   "source": [
    "all_features.dtypes"
   ]
  },
  {
   "cell_type": "markdown",
   "id": "ad4f41e5",
   "metadata": {},
   "source": [
    "选取出数字列，标准化并且用0填充缺失值"
   ]
  },
  {
   "cell_type": "code",
   "execution_count": 12,
   "id": "e0874ff0",
   "metadata": {
    "ExecuteTime": {
     "end_time": "2023-06-24T06:54:29.003568Z",
     "start_time": "2023-06-24T06:54:28.965659Z"
    }
   },
   "outputs": [],
   "source": [
    "# 若无法获得测试数据，则可根据训练数据计算均值和标准差\n",
    "numeric_features = all_features.dtypes[all_features.dtypes != 'object'].index#除了数字类型，其他都用object表示，所以字符串也用object表示\n",
    "all_features[numeric_features] = all_features[numeric_features].apply(\n",
    "    lambda x: (x - x.mean()) / (x.std()))\n",
    "# 在标准化数据之后，均值变为0，因此我们可以将缺失值设置为0\n",
    "all_features[numeric_features] = all_features[numeric_features].fillna(0)"
   ]
  },
  {
   "cell_type": "markdown",
   "id": "0247b9cc",
   "metadata": {
    "ExecuteTime": {
     "end_time": "2023-06-24T06:54:37.040157Z",
     "start_time": "2023-06-24T06:54:37.027213Z"
    }
   },
   "source": [
    "处理离散值，使用独热编码"
   ]
  },
  {
   "cell_type": "code",
   "execution_count": 14,
   "id": "6362b968",
   "metadata": {
    "ExecuteTime": {
     "end_time": "2023-06-24T07:46:50.693520Z",
     "start_time": "2023-06-24T07:46:50.653792Z"
    }
   },
   "outputs": [
    {
     "data": {
      "text/plain": [
       "(2919, 331)"
      ]
     },
     "execution_count": 14,
     "metadata": {},
     "output_type": "execute_result"
    }
   ],
   "source": [
    "# “Dummy_na=True”将“na”（缺失值）视为有效的特征值，并为其创建指示符特征\n",
    "all_features = pd.get_dummies(all_features, dummy_na=True)\n",
    "all_features.shape"
   ]
  },
  {
   "cell_type": "markdown",
   "id": "1b7f1f3e",
   "metadata": {},
   "source": [
    "从pandas格式中提取numpy格式，并将其转化为张量表示"
   ]
  },
  {
   "cell_type": "code",
   "execution_count": 15,
   "id": "5f40462f",
   "metadata": {
    "ExecuteTime": {
     "end_time": "2023-06-24T07:49:33.421196Z",
     "start_time": "2023-06-24T07:49:33.408197Z"
    }
   },
   "outputs": [],
   "source": [
    "n_train = train_data.shape[0]\n",
    "train_features = torch.tensor(all_features[:n_train].values,\n",
    "                              dtype=torch.float32)\n",
    "test_features = torch.tensor(all_features[n_train:].values,\n",
    "                             dtype=torch.float32)\n",
    "train_labels = torch.tensor(train_data.SalePrice.values.reshape(-1, 1),\n",
    "                            dtype=torch.float32)"
   ]
  },
  {
   "cell_type": "markdown",
   "id": "aff27c59",
   "metadata": {},
   "source": [
    "训练"
   ]
  },
  {
   "cell_type": "code",
   "execution_count": 18,
   "id": "aff10092",
   "metadata": {
    "ExecuteTime": {
     "end_time": "2023-06-24T08:03:35.495976Z",
     "start_time": "2023-06-24T08:03:35.488718Z"
    }
   },
   "outputs": [],
   "source": [
    "loss = nn.MSELoss()\n",
    "in_features = train_features.shape[1]\n",
    "def get_net():\n",
    "    net = nn.Sequential(nn.Linear(in_features,1))\n",
    "    return net"
   ]
  },
  {
   "cell_type": "markdown",
   "id": "eb440317",
   "metadata": {},
   "source": [
    "对于房价我们更关心相对误差，而不是绝对误差。我们可以使用均方根对数误差\n",
    "$$\n",
    "\\sqrt{\\frac{1}{n}\\sum_{i=1}^n\\left(\\log y_i -\\log \\hat{y}_i\\right)^2}.\n",
    "$$\n",
    "**优点**  \n",
    "**1.惩罚欠预测大于过预测，适用于某些需要欠预测损失更大的场景，如预测共享单车需求。**\n",
    "\n",
    "假如真实值为 1000，若预测值为 600，那么 RMSE=400， RMSLE=0.510\n",
    "\n",
    "假如真实值为 1000，若预测值为 1400， 那么 RMSE=400， RMSLE=0.336\n",
    "\n",
    "**2.消除范围过大的影响。**\n",
    "\n",
    "RMSE 会被一些大的值主导。这样即使你很多小的值预测准了，但是有一个非常大的值预测的不准确，RMSE 就会很大。"
   ]
  },
  {
   "cell_type": "code",
   "execution_count": 19,
   "id": "d72b6106",
   "metadata": {
    "ExecuteTime": {
     "end_time": "2023-06-24T08:44:12.200690Z",
     "start_time": "2023-06-24T08:44:12.181691Z"
    }
   },
   "outputs": [],
   "source": [
    "def log_rmse(net, features, labels):\n",
    "    # 为了在取对数时进一步稳定该值，将小于1的值设置为1\n",
    "    clipped_preds = torch.clamp(net(features), 1, float('inf'))\n",
    "    rmse = torch.sqrt(loss(torch.log(clipped_preds),\n",
    "                           torch.log(labels)))\n",
    "    return rmse.item()"
   ]
  },
  {
   "cell_type": "markdown",
   "id": "d8e009b2",
   "metadata": {},
   "source": [
    "训练函数使用Adam优化器"
   ]
  },
  {
   "cell_type": "code",
   "execution_count": 20,
   "id": "83bb9ab7",
   "metadata": {
    "ExecuteTime": {
     "end_time": "2023-06-24T09:03:54.141181Z",
     "start_time": "2023-06-24T09:03:54.127868Z"
    }
   },
   "outputs": [],
   "source": [
    "def train(net, train_features, train_labels, test_features, test_labels,\n",
    "          num_epochs, learning_rate, weight_decay, batch_size):\n",
    "    train_ls, test_ls = [], []\n",
    "    train_iter = d2l.load_array((train_features,train_labels),batch_size)\n",
    "    optimizer = torch.optim.Adam(net.parameters(),\n",
    "                                 lr=learning_rate,\n",
    "                                weight_decay=weight_decay)\n",
    "    for epoch in range(num_epochs):\n",
    "        for X,y in train_iter:\n",
    "            optimizer.zero_grad()\n",
    "            l = loss(net(X),y)\n",
    "            l.backward()\n",
    "            optimizer.step()\n",
    "        train_ls.append(log_rmse(net,train_features,train_labels))\n",
    "        if test_labels is not None:\n",
    "            test_ls.append(log_rmse(net,test_features,test_labels))\n",
    "    return train_ls,test_ls"
   ]
  },
  {
   "cell_type": "markdown",
   "id": "5c8ada98",
   "metadata": {
    "ExecuteTime": {
     "end_time": "2023-06-24T09:07:20.887390Z",
     "start_time": "2023-06-24T09:07:20.874385Z"
    }
   },
   "source": [
    "$K折交叉验证$"
   ]
  },
  {
   "cell_type": "code",
   "execution_count": 28,
   "id": "5e36a524",
   "metadata": {
    "ExecuteTime": {
     "end_time": "2023-06-24T13:00:45.705027Z",
     "start_time": "2023-06-24T13:00:45.682056Z"
    }
   },
   "outputs": [],
   "source": [
    "def get_k_fold_data(k, i, X, y):\n",
    "    assert k > 1\n",
    "    fold_size = X.shape[0] // k # // 为整除\n",
    "    X_train, y_train = None, None\n",
    "    for j in range(k):\n",
    "        idx = slice(j * fold_size, (j + 1) * fold_size)#切片对象，相当于直接[:]切片\n",
    "        X_part, y_part = X[idx, :], y[idx]\n",
    "        if j == i:\n",
    "            X_valid, y_valid = X_part, y_part\n",
    "        elif X_train is None:\n",
    "            X_train, y_train = X_part, y_part\n",
    "        else:\n",
    "            X_train = torch.cat([X_train, X_part], 0)#torch.cat连接张量，在第0维\n",
    "            y_train = torch.cat([y_train, y_part], 0)\n",
    "    return X_train, y_train, X_valid, y_valid"
   ]
  },
  {
   "cell_type": "markdown",
   "id": "f555131c",
   "metadata": {},
   "source": [
    "返回k折训练和验证误差的平均值"
   ]
  },
  {
   "cell_type": "code",
   "execution_count": 29,
   "id": "8f0493a3",
   "metadata": {
    "ExecuteTime": {
     "end_time": "2023-06-24T13:01:02.635265Z",
     "start_time": "2023-06-24T13:01:02.617265Z"
    }
   },
   "outputs": [],
   "source": [
    "def k_fold(k, X_train, y_train, num_epochs, learning_rate, weight_decay,\n",
    "           batch_size):\n",
    "    train_l_sum, valid_l_sum = 0, 0\n",
    "    for i in range(k):\n",
    "        data = get_k_fold_data(k, i, X_train, y_train)\n",
    "        net = get_net()\n",
    "        train_ls, valid_ls = train(net, *data, num_epochs, learning_rate,\n",
    "                                   weight_decay, batch_size)\n",
    "        train_l_sum += train_ls[-1]\n",
    "        valid_l_sum += valid_ls[-1]\n",
    "        if i == 0:\n",
    "            d2l.plot(list(range(1, num_epochs + 1)), [train_ls, valid_ls],\n",
    "                     xlabel='epoch', ylabel='rmse', xlim=[1, num_epochs],\n",
    "                     legend=['train', 'valid'], yscale='log')\n",
    "        print(f'折{i + 1}，训练log rmse{float(train_ls[-1]):f}, '\n",
    "              f'验证log rmse{float(valid_ls[-1]):f}')\n",
    "    return train_l_sum / k, valid_l_sum / k"
   ]
  },
  {
   "cell_type": "markdown",
   "id": "fb2f8dd2",
   "metadata": {},
   "source": [
    "模型选择"
   ]
  },
  {
   "cell_type": "code",
   "execution_count": null,
   "id": "f06db4b1",
   "metadata": {
    "ExecuteTime": {
     "start_time": "2023-06-24T13:18:58.387Z"
    }
   },
   "outputs": [
    {
     "name": "stdout",
     "output_type": "stream",
     "text": [
      "折1，训练log rmse0.171431, 验证log rmse0.157175\n",
      "折2，训练log rmse0.165883, 验证log rmse0.182510\n",
      "折3，训练log rmse0.167209, 验证log rmse0.173672\n"
     ]
    }
   ],
   "source": [
    "k, num_epochs, lr, weight_decay, batch_size = 5, 350, 1, 0, 64\n",
    "train_l, valid_l = k_fold(k, train_features, train_labels, num_epochs, lr,\n",
    "                          weight_decay, batch_size)\n",
    "print(f'{k}-折验证: 平均训练log rmse: {float(train_l):f}, '\n",
    "      f'平均验证log rmse: {float(valid_l):f}')"
   ]
  },
  {
   "cell_type": "code",
   "execution_count": 35,
   "id": "5273ad7a",
   "metadata": {
    "ExecuteTime": {
     "end_time": "2023-06-24T13:14:32.994297Z",
     "start_time": "2023-06-24T13:14:32.979932Z"
    }
   },
   "outputs": [],
   "source": [
    "def train_and_pred(train_features, test_features, train_labels, test_data,\n",
    "                   num_epochs, lr, weight_decay, batch_size):\n",
    "    net = get_net()\n",
    "    train_ls, _ = train(net, train_features, train_labels, None, None,\n",
    "                        num_epochs, lr, weight_decay, batch_size)\n",
    "    d2l.plot(np.arange(1, num_epochs + 1), [train_ls], xlabel='epoch',\n",
    "             ylabel='log rmse', xlim=[1, num_epochs], yscale='log')\n",
    "    print(f'训练log rmse：{float(train_ls[-1]):f}')\n",
    "    # 将网络应用于测试集。\n",
    "    preds = net(test_features).detach().numpy()#.detach()梯度不会反向传播\n",
    "    # 将其重新格式化以导出到Kaggle\n",
    "    test_data['SalePrice'] = pd.Series(preds.reshape(1, -1)[0])\n",
    "    submission = pd.concat([test_data['Id'], test_data['SalePrice']], axis=1)\n",
    "    submission.to_csv('submission.csv', index=False)"
   ]
  },
  {
   "cell_type": "code",
   "execution_count": null,
   "id": "99337fc6",
   "metadata": {},
   "outputs": [],
   "source": []
  }
 ],
 "metadata": {
  "kernelspec": {
   "display_name": "python pytorch",
   "language": "python",
   "name": "pytorch"
  },
  "language_info": {
   "codemirror_mode": {
    "name": "ipython",
    "version": 3
   },
   "file_extension": ".py",
   "mimetype": "text/x-python",
   "name": "python",
   "nbconvert_exporter": "python",
   "pygments_lexer": "ipython3",
   "version": "3.11.3"
  },
  "varInspector": {
   "cols": {
    "lenName": 16,
    "lenType": 16,
    "lenVar": 40
   },
   "kernels_config": {
    "python": {
     "delete_cmd_postfix": "",
     "delete_cmd_prefix": "del ",
     "library": "var_list.py",
     "varRefreshCmd": "print(var_dic_list())"
    },
    "r": {
     "delete_cmd_postfix": ") ",
     "delete_cmd_prefix": "rm(",
     "library": "var_list.r",
     "varRefreshCmd": "cat(var_dic_list()) "
    }
   },
   "position": {
    "height": "196.844px",
    "left": "1275px",
    "right": "20px",
    "top": "125px",
    "width": "350px"
   },
   "types_to_exclude": [
    "module",
    "function",
    "builtin_function_or_method",
    "instance",
    "_Feature"
   ],
   "window_display": true
  }
 },
 "nbformat": 4,
 "nbformat_minor": 5
}
