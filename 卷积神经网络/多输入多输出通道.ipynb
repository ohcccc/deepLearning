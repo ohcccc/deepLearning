{
 "cells": [
  {
   "cell_type": "markdown",
   "id": "609efab5",
   "metadata": {},
   "source": [
    "多输入通道互相关运算"
   ]
  },
  {
   "cell_type": "code",
   "execution_count": 1,
   "id": "1539888a",
   "metadata": {
    "ExecuteTime": {
     "end_time": "2023-07-20T14:25:19.655056Z",
     "start_time": "2023-07-20T14:25:17.621722Z"
    }
   },
   "outputs": [],
   "source": [
    "import torch\n",
    "from d2l import torch as d2l\n",
    "def corr2d_multi_in(X, K):\n",
    "    # 先遍历“X”和“K”的第0个维度（通道维度），再把它们加在一起\n",
    "    return sum(d2l.corr2d(x, k) for x, k in zip(X, K))"
   ]
  },
  {
   "cell_type": "markdown",
   "id": "ec29fa04",
   "metadata": {
    "ExecuteTime": {
     "end_time": "2023-07-20T13:48:33.777024Z",
     "start_time": "2023-07-20T13:48:33.764943Z"
    }
   },
   "source": [
    "验证互相关运算"
   ]
  },
  {
   "cell_type": "code",
   "execution_count": 10,
   "id": "46ab0ee9",
   "metadata": {
    "ExecuteTime": {
     "end_time": "2023-07-20T14:45:33.256282Z",
     "start_time": "2023-07-20T14:45:33.245099Z"
    }
   },
   "outputs": [
    {
     "data": {
      "text/plain": [
       "tensor([[ 56.,  72.],\n",
       "        [104., 120.]])"
      ]
     },
     "execution_count": 10,
     "metadata": {},
     "output_type": "execute_result"
    }
   ],
   "source": [
    "X = torch.tensor([[[0.0, 1.0, 2.0], [3.0, 4.0, 5.0], [6.0, 7.0, 8.0]],\n",
    "               [[1.0, 2.0, 3.0], [4.0, 5.0, 6.0], [7.0, 8.0, 9.0]]])\n",
    "K = torch.tensor([[[0.0, 1.0], [2.0, 3.0]], [[1.0, 2.0], [3.0, 4.0]]])\n",
    "\n",
    "corr2d_multi_in(X, K)"
   ]
  },
  {
   "cell_type": "code",
   "execution_count": 11,
   "id": "62b33bff",
   "metadata": {
    "ExecuteTime": {
     "end_time": "2023-07-20T14:45:39.113867Z",
     "start_time": "2023-07-20T14:45:39.095849Z"
    }
   },
   "outputs": [
    {
     "data": {
      "text/plain": [
       "(torch.Size([2, 3, 3]), torch.Size([2, 2, 2]))"
      ]
     },
     "execution_count": 11,
     "metadata": {},
     "output_type": "execute_result"
    }
   ],
   "source": [
    "X.shape,K.shape"
   ]
  },
  {
   "cell_type": "markdown",
   "id": "67c18a02",
   "metadata": {},
   "source": [
    "计算多个通道的输出互相关函数"
   ]
  },
  {
   "cell_type": "code",
   "execution_count": 6,
   "id": "9d08c98d",
   "metadata": {
    "ExecuteTime": {
     "end_time": "2023-07-20T14:43:39.533197Z",
     "start_time": "2023-07-20T14:43:39.524196Z"
    }
   },
   "outputs": [],
   "source": [
    "def corr2d_multi_in_out(X, K):\n",
    "    # 迭代“K”的第0个维度，每次都对输入“X”执行互相关运算。\n",
    "    # 最后将所有结果都叠加在一起\n",
    "    return torch.stack([corr2d_multi_in(X, k) for k in K], 0)"
   ]
  },
  {
   "cell_type": "code",
   "execution_count": 12,
   "id": "c03e58d7",
   "metadata": {
    "ExecuteTime": {
     "end_time": "2023-07-20T14:45:40.853253Z",
     "start_time": "2023-07-20T14:45:40.836496Z"
    }
   },
   "outputs": [
    {
     "data": {
      "text/plain": [
       "(torch.Size([3, 2, 2, 2]),\n",
       " tensor([[[[0., 1.],\n",
       "           [2., 3.]],\n",
       " \n",
       "          [[1., 2.],\n",
       "           [3., 4.]]],\n",
       " \n",
       " \n",
       "         [[[1., 2.],\n",
       "           [3., 4.]],\n",
       " \n",
       "          [[2., 3.],\n",
       "           [4., 5.]]],\n",
       " \n",
       " \n",
       "         [[[2., 3.],\n",
       "           [4., 5.]],\n",
       " \n",
       "          [[3., 4.],\n",
       "           [5., 6.]]]]))"
      ]
     },
     "execution_count": 12,
     "metadata": {},
     "output_type": "execute_result"
    }
   ],
   "source": [
    "K = torch.stack((K, K + 1, K + 2), 0)\n",
    "K.shape,K"
   ]
  },
  {
   "cell_type": "code",
   "execution_count": 13,
   "id": "afaf2834",
   "metadata": {
    "ExecuteTime": {
     "end_time": "2023-07-20T14:46:51.624962Z",
     "start_time": "2023-07-20T14:46:51.612330Z"
    }
   },
   "outputs": [
    {
     "data": {
      "text/plain": [
       "tensor([[[ 56.,  72.],\n",
       "         [104., 120.]],\n",
       "\n",
       "        [[ 76., 100.],\n",
       "         [148., 172.]],\n",
       "\n",
       "        [[ 96., 128.],\n",
       "         [192., 224.]]])"
      ]
     },
     "execution_count": 13,
     "metadata": {},
     "output_type": "execute_result"
    }
   ],
   "source": [
    "corr2d_multi_in_out(X, K)"
   ]
  },
  {
   "cell_type": "markdown",
   "id": "504d8752",
   "metadata": {},
   "source": [
    "1x1卷积"
   ]
  },
  {
   "cell_type": "code",
   "execution_count": 14,
   "id": "de7876bd",
   "metadata": {
    "ExecuteTime": {
     "end_time": "2023-07-20T14:51:16.930049Z",
     "start_time": "2023-07-20T14:51:16.920048Z"
    }
   },
   "outputs": [],
   "source": [
    "def corr2d_multi_in_out_1x1(X, K):\n",
    "    c_i, h, w = X.shape\n",
    "    c_o = K.shape[0]\n",
    "    X = X.reshape((c_i, h * w))\n",
    "    K = K.reshape((c_o, c_i))\n",
    "    # 全连接层中的矩阵乘法\n",
    "    Y = torch.matmul(K, X)\n",
    "    return Y.reshape((c_o, h, w))"
   ]
  },
  {
   "cell_type": "code",
   "execution_count": 15,
   "id": "4cc560a8",
   "metadata": {
    "ExecuteTime": {
     "end_time": "2023-07-20T14:52:55.006105Z",
     "start_time": "2023-07-20T14:52:54.985107Z"
    }
   },
   "outputs": [],
   "source": [
    "X = torch.normal(0, 1, (3, 3, 3))\n",
    "K = torch.normal(0, 1, (2, 3, 1, 1))\n",
    "\n",
    "Y1 = corr2d_multi_in_out_1x1(X, K)\n",
    "Y2 = corr2d_multi_in_out(X, K)\n",
    "assert float(torch.abs(Y1 - Y2).sum()) < 1e-6"
   ]
  },
  {
   "cell_type": "code",
   "execution_count": null,
   "id": "faba3957",
   "metadata": {},
   "outputs": [],
   "source": []
  }
 ],
 "metadata": {
  "kernelspec": {
   "display_name": "d2l",
   "language": "python",
   "name": "d2l"
  },
  "language_info": {
   "codemirror_mode": {
    "name": "ipython",
    "version": 3
   },
   "file_extension": ".py",
   "mimetype": "text/x-python",
   "name": "python",
   "nbconvert_exporter": "python",
   "pygments_lexer": "ipython3",
   "version": "3.8.17"
  },
  "varInspector": {
   "cols": {
    "lenName": 16,
    "lenType": 16,
    "lenVar": 40
   },
   "kernels_config": {
    "python": {
     "delete_cmd_postfix": "",
     "delete_cmd_prefix": "del ",
     "library": "var_list.py",
     "varRefreshCmd": "print(var_dic_list())"
    },
    "r": {
     "delete_cmd_postfix": ") ",
     "delete_cmd_prefix": "rm(",
     "library": "var_list.r",
     "varRefreshCmd": "cat(var_dic_list()) "
    }
   },
   "types_to_exclude": [
    "module",
    "function",
    "builtin_function_or_method",
    "instance",
    "_Feature"
   ],
   "window_display": false
  }
 },
 "nbformat": 4,
 "nbformat_minor": 5
}
