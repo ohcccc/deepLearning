{
 "cells": [
  {
   "cell_type": "markdown",
   "id": "cf998a9a",
   "metadata": {},
   "source": [
    "# 图像卷积"
   ]
  },
  {
   "cell_type": "markdown",
   "id": "c9705597",
   "metadata": {},
   "source": [
    "互关运算"
   ]
  },
  {
   "cell_type": "code",
   "execution_count": 1,
   "id": "e11a1b44",
   "metadata": {
    "ExecuteTime": {
     "end_time": "2023-07-19T13:21:15.965827Z",
     "start_time": "2023-07-19T13:21:14.846982Z"
    }
   },
   "outputs": [],
   "source": [
    "import torch\n",
    "from torch import nn\n",
    "# from d2l import torch as d2l"
   ]
  },
  {
   "cell_type": "code",
   "execution_count": 11,
   "id": "b53a8b90",
   "metadata": {
    "ExecuteTime": {
     "end_time": "2023-07-19T13:50:47.187555Z",
     "start_time": "2023-07-19T13:50:47.184352Z"
    }
   },
   "outputs": [],
   "source": [
    "def corr2d(X,K):\n",
    "    h,w = K.shape\n",
    "    Y = torch.zeros((X.shape[0] - h + 1,X.shape[1] - w + 1))\n",
    "    for i in range(Y.shape[0]):\n",
    "        for j in range(Y.shape[1]):\n",
    "            Y[i,j] = (X[i:i + h, j:j + w]*K).sum()\n",
    "    return Y"
   ]
  },
  {
   "cell_type": "markdown",
   "id": "44f9ae00",
   "metadata": {},
   "source": [
    "验证二维互相关运算的输出"
   ]
  },
  {
   "cell_type": "code",
   "execution_count": 4,
   "id": "f4943022",
   "metadata": {
    "ExecuteTime": {
     "end_time": "2023-07-19T13:26:13.866564Z",
     "start_time": "2023-07-19T13:26:13.852975Z"
    }
   },
   "outputs": [
    {
     "data": {
      "text/plain": [
       "tensor([[19., 25.],\n",
       "        [37., 43.]])"
      ]
     },
     "execution_count": 4,
     "metadata": {},
     "output_type": "execute_result"
    }
   ],
   "source": [
    "X = torch.tensor([[0.0, 1.0, 2.0], [3.0, 4.0, 5.0], [6.0, 7.0, 8.0]])\n",
    "K = torch.tensor([[0.0, 1.0], [2.0, 3.0]])\n",
    "corr2d(X, K)"
   ]
  },
  {
   "cell_type": "markdown",
   "id": "051aadeb",
   "metadata": {},
   "source": [
    "实现二维卷积层"
   ]
  },
  {
   "cell_type": "code",
   "execution_count": 5,
   "id": "2b3f59cd",
   "metadata": {
    "ExecuteTime": {
     "end_time": "2023-07-19T13:37:40.827288Z",
     "start_time": "2023-07-19T13:37:40.823887Z"
    }
   },
   "outputs": [],
   "source": [
    "class Conv2D(nn.Module):\n",
    "    def __init__(self,kernel_size):\n",
    "        super.__init__()\n",
    "        self.weight = nn.Parameter(torch.rand(kernel_size))\n",
    "        self.bias = nn.Parameter(torch.zeros(1))\n",
    "    def forward(self,x):\n",
    "        return corr2d(x,self.weight) + slef.bias"
   ]
  },
  {
   "cell_type": "markdown",
   "id": "6d74fed6",
   "metadata": {},
   "source": [
    "卷积层简单应用：检测图像中不同颜色的边缘"
   ]
  },
  {
   "cell_type": "code",
   "execution_count": 9,
   "id": "25dd6090",
   "metadata": {
    "ExecuteTime": {
     "end_time": "2023-07-19T13:48:42.956102Z",
     "start_time": "2023-07-19T13:48:42.952105Z"
    }
   },
   "outputs": [
    {
     "data": {
      "text/plain": [
       "tensor([[1., 1., 0., 0., 0., 0., 1., 1.],\n",
       "        [1., 1., 0., 0., 0., 0., 1., 1.],\n",
       "        [1., 1., 0., 0., 0., 0., 1., 1.],\n",
       "        [1., 1., 0., 0., 0., 0., 1., 1.],\n",
       "        [1., 1., 0., 0., 0., 0., 1., 1.],\n",
       "        [1., 1., 0., 0., 0., 0., 1., 1.]])"
      ]
     },
     "execution_count": 9,
     "metadata": {},
     "output_type": "execute_result"
    }
   ],
   "source": [
    "X = torch.ones((6,8))\n",
    "X[:,2:6] = 0\n",
    "X"
   ]
  },
  {
   "cell_type": "code",
   "execution_count": 7,
   "id": "70da7c84",
   "metadata": {
    "ExecuteTime": {
     "end_time": "2023-07-19T13:46:03.173444Z",
     "start_time": "2023-07-19T13:46:03.169557Z"
    }
   },
   "outputs": [],
   "source": [
    "K  = torch.tensor([[1,-1]])"
   ]
  },
  {
   "cell_type": "markdown",
   "id": "29d919b8",
   "metadata": {},
   "source": [
    "输出Y的1代表从白色到黑色的边缘，-1代表从黑色到白色的边缘"
   ]
  },
  {
   "cell_type": "code",
   "execution_count": 14,
   "id": "676bc3d6",
   "metadata": {
    "ExecuteTime": {
     "end_time": "2023-07-19T13:52:24.100204Z",
     "start_time": "2023-07-19T13:52:24.094306Z"
    }
   },
   "outputs": [
    {
     "data": {
      "text/plain": [
       "tensor([[ 0.,  1.,  0.,  0.,  0., -1.,  0.],\n",
       "        [ 0.,  1.,  0.,  0.,  0., -1.,  0.],\n",
       "        [ 0.,  1.,  0.,  0.,  0., -1.,  0.],\n",
       "        [ 0.,  1.,  0.,  0.,  0., -1.,  0.],\n",
       "        [ 0.,  1.,  0.,  0.,  0., -1.,  0.],\n",
       "        [ 0.,  1.,  0.,  0.,  0., -1.,  0.]])"
      ]
     },
     "execution_count": 14,
     "metadata": {},
     "output_type": "execute_result"
    }
   ],
   "source": [
    "corr2d(X,K)"
   ]
  },
  {
   "cell_type": "markdown",
   "id": "2faee008",
   "metadata": {},
   "source": [
    "卷积核K只能检查垂直边缘"
   ]
  },
  {
   "cell_type": "code",
   "execution_count": 15,
   "id": "696caacc",
   "metadata": {
    "ExecuteTime": {
     "end_time": "2023-07-19T13:52:35.597313Z",
     "start_time": "2023-07-19T13:52:35.591802Z"
    }
   },
   "outputs": [
    {
     "data": {
      "text/plain": [
       "tensor([[0., 0., 0., 0., 0.],\n",
       "        [0., 0., 0., 0., 0.],\n",
       "        [0., 0., 0., 0., 0.],\n",
       "        [0., 0., 0., 0., 0.],\n",
       "        [0., 0., 0., 0., 0.],\n",
       "        [0., 0., 0., 0., 0.],\n",
       "        [0., 0., 0., 0., 0.],\n",
       "        [0., 0., 0., 0., 0.]])"
      ]
     },
     "execution_count": 15,
     "metadata": {},
     "output_type": "execute_result"
    }
   ],
   "source": [
    "corr2d(X.t(),K)"
   ]
  },
  {
   "cell_type": "markdown",
   "id": "53023a0d",
   "metadata": {},
   "source": [
    "学习由x生成y的卷积核"
   ]
  },
  {
   "cell_type": "code",
   "execution_count": 16,
   "id": "086ed96b",
   "metadata": {
    "ExecuteTime": {
     "end_time": "2023-07-19T13:58:48.177050Z",
     "start_time": "2023-07-19T13:58:48.119690Z"
    }
   },
   "outputs": [
    {
     "name": "stdout",
     "output_type": "stream",
     "text": [
      "epoch 2, loss 12.417\n",
      "epoch 4, loss 2.318\n",
      "epoch 6, loss 0.485\n",
      "epoch 8, loss 0.121\n",
      "epoch 10, loss 0.036\n"
     ]
    }
   ],
   "source": [
    "# 构造一个二维卷积层，它具有1个输出通道和形状为（1，2）的卷积核\n",
    "conv2d = nn.Conv2d(1,1, kernel_size=(1, 2), bias=False)\n",
    "\n",
    "# 这个二维卷积层使用四维输入和输出格式（批量大小、通道、高度、宽度），\n",
    "# 其中批量大小和通道数都为1\n",
    "X = X.reshape((1, 1, 6, 8))\n",
    "Y = Y.reshape((1, 1, 6, 7))\n",
    "lr = 3e-2  # 学习率\n",
    "\n",
    "for i in range(10):\n",
    "    Y_hat = conv2d(X)\n",
    "    l = (Y_hat - Y) ** 2\n",
    "    conv2d.zero_grad()\n",
    "    l.sum().backward()\n",
    "    # 迭代卷积核\n",
    "    conv2d.weight.data[:] -= lr * conv2d.weight.grad\n",
    "    if (i + 1) % 2 == 0:\n",
    "        print(f'epoch {i+1}, loss {l.sum():.3f}')"
   ]
  },
  {
   "cell_type": "code",
   "execution_count": 17,
   "id": "56cdc900",
   "metadata": {
    "ExecuteTime": {
     "end_time": "2023-07-19T13:59:03.948886Z",
     "start_time": "2023-07-19T13:59:03.928506Z"
    }
   },
   "outputs": [],
   "source": [
    "nn.Conv2d??"
   ]
  }
 ],
 "metadata": {
  "kernelspec": {
   "display_name": "pytorch-gpu",
   "language": "python",
   "name": "pytorch-gpu"
  },
  "language_info": {
   "codemirror_mode": {
    "name": "ipython",
    "version": 3
   },
   "file_extension": ".py",
   "mimetype": "text/x-python",
   "name": "python",
   "nbconvert_exporter": "python",
   "pygments_lexer": "ipython3",
   "version": "3.11.3"
  },
  "varInspector": {
   "cols": {
    "lenName": 16,
    "lenType": 16,
    "lenVar": 40
   },
   "kernels_config": {
    "python": {
     "delete_cmd_postfix": "",
     "delete_cmd_prefix": "del ",
     "library": "var_list.py",
     "varRefreshCmd": "print(var_dic_list())"
    },
    "r": {
     "delete_cmd_postfix": ") ",
     "delete_cmd_prefix": "rm(",
     "library": "var_list.r",
     "varRefreshCmd": "cat(var_dic_list()) "
    }
   },
   "types_to_exclude": [
    "module",
    "function",
    "builtin_function_or_method",
    "instance",
    "_Feature"
   ],
   "window_display": true
  }
 },
 "nbformat": 4,
 "nbformat_minor": 5
}
