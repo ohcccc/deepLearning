{
 "cells": [
  {
   "cell_type": "code",
   "execution_count": 1,
   "id": "c42bbfb4",
   "metadata": {
    "ExecuteTime": {
     "end_time": "2023-08-09T02:24:22.926504Z",
     "start_time": "2023-08-09T02:24:18.617317Z"
    }
   },
   "outputs": [],
   "source": [
    "import collections\n",
    "import re\n",
    "from d2l import torch as d2l"
   ]
  },
  {
   "cell_type": "markdown",
   "id": "334a34ba",
   "metadata": {},
   "source": [
    "将数据集读取到由多条文本行组成的列表"
   ]
  },
  {
   "cell_type": "code",
   "execution_count": 3,
   "id": "da89657e",
   "metadata": {
    "ExecuteTime": {
     "end_time": "2023-08-09T02:32:54.581294Z",
     "start_time": "2023-08-09T02:32:53.376962Z"
    }
   },
   "outputs": [
    {
     "name": "stdout",
     "output_type": "stream",
     "text": [
      "Downloading ..\\data\\timemachine.txt from http://d2l-data.s3-accelerate.amazonaws.com/timemachine.txt...\n",
      "the time machine by h g wells\n",
      "twinkled and his usually pale face was flushed and animated the\n"
     ]
    }
   ],
   "source": [
    "d2l.DATA_HUB['time_machine'] = (d2l.DATA_URL + 'timemachine.txt',\n",
    "                                '090b5e7e70c295757f55df93cb0a180b9691891a')\n",
    "\n",
    "def read_time_machine():  \n",
    "    \"\"\"Load the time machine dataset into a list of text lines.\"\"\"\n",
    "    with open(d2l.download('time_machine'), 'r') as f:\n",
    "        lines = f.readlines()\n",
    "    return [re.sub('[^A-Za-z]+', ' ', line).strip().lower() for line in lines]\n",
    "\n",
    "lines = read_time_machine()\n",
    "\n",
    "print(lines[0])\n",
    "print(lines[10])"
   ]
  },
  {
   "cell_type": "markdown",
   "id": "fc37e90b",
   "metadata": {},
   "source": [
    "每个文本序列被拆分成一个标记列表"
   ]
  },
  {
   "cell_type": "code",
   "execution_count": 30,
   "id": "ae7c17a7",
   "metadata": {
    "ExecuteTime": {
     "end_time": "2023-08-09T04:04:25.920566Z",
     "start_time": "2023-08-09T04:04:25.913716Z"
    }
   },
   "outputs": [
    {
     "name": "stdout",
     "output_type": "stream",
     "text": [
      "['the', 'time', 'machine', 'by', 'h', 'g', 'wells']\n",
      "[]\n",
      "[]\n",
      "[]\n",
      "[]\n",
      "['i']\n",
      "[]\n",
      "[]\n",
      "['the', 'time', 'traveller', 'for', 'so', 'it', 'will', 'be', 'convenient', 'to', 'speak', 'of', 'him']\n",
      "['was', 'expounding', 'a', 'recondite', 'matter', 'to', 'us', 'his', 'grey', 'eyes', 'shone', 'and']\n",
      "['twinkled', 'and', 'his', 'usually', 'pale', 'face', 'was', 'flushed', 'and', 'animated', 'the']\n"
     ]
    }
   ],
   "source": [
    "def tokenize(lines, token='word'):  \n",
    "    \"\"\"将文本行拆分为单词或字符标记。\"\"\"\n",
    "    if token == 'word':\n",
    "        return [line.split() for line in lines]\n",
    "    elif token == 'char':\n",
    "        return [list(line) for line in lines]\n",
    "        #list将字符串中的字符分成一个个列表中的元素\n",
    "    else:\n",
    "        print('错误：未知令牌类型：' + token)\n",
    "\n",
    "tokens = tokenize(lines)\n",
    "for i in range(11):\n",
    "    print(tokens[i])"
   ]
  },
  {
   "cell_type": "code",
   "execution_count": 9,
   "id": "2bcef6b4",
   "metadata": {
    "ExecuteTime": {
     "end_time": "2023-08-09T02:51:01.585617Z",
     "start_time": "2023-08-09T02:51:01.576618Z"
    }
   },
   "outputs": [],
   "source": [
    "def count_corpus(tokens):  #@save\n",
    "    \"\"\"统计词元的频率\"\"\"\n",
    "    # 这里的tokens是1D列表或2D列表\n",
    "    if len(tokens) == 0 or isinstance(tokens[0], list):\n",
    "        # 将词元列表展平成一个列表\n",
    "        tokens = [token for line in tokens for token in line]\n",
    "    return collections.Counter(tokens)"
   ]
  },
  {
   "cell_type": "markdown",
   "id": "b23b1eb4",
   "metadata": {
    "ExecuteTime": {
     "end_time": "2023-08-09T02:40:57.734000Z",
     "start_time": "2023-08-09T02:40:57.726001Z"
    }
   },
   "source": [
    "构建一个字典，通常也叫做词表（vocabulary），用来将字符串标记映射到从0\n",
    "开始的数字索引中"
   ]
  },
  {
   "cell_type": "code",
   "execution_count": 38,
   "id": "7e375ba3",
   "metadata": {
    "ExecuteTime": {
     "end_time": "2023-08-09T04:08:00.753412Z",
     "start_time": "2023-08-09T04:08:00.731908Z"
    }
   },
   "outputs": [],
   "source": [
    "class Vocab:  #@save\n",
    "    \"\"\"文本词表\"\"\"\n",
    "    def __init__(self, tokens=None, min_freq=0, reserved_tokens=None):\n",
    "        if tokens is None:\n",
    "            tokens = []\n",
    "        if reserved_tokens is None:\n",
    "            reserved_tokens = []\n",
    "        # 按出现频率排序\n",
    "        counter = count_corpus(tokens)\n",
    "        self._token_freqs = sorted(counter.items(), key=lambda x: x[1],\n",
    "                                   reverse=True)\n",
    "        # 未知词元的索引为0\n",
    "        self.idx_to_token = ['<unk>'] + reserved_tokens\n",
    "        self.token_to_idx = {token: idx\n",
    "                             for idx, token in enumerate(self.idx_to_token)}\n",
    "        for token, freq in self._token_freqs:\n",
    "            if freq < min_freq:\n",
    "                break\n",
    "            if token not in self.token_to_idx:\n",
    "                self.idx_to_token.append(token)\n",
    "                self.token_to_idx[token] = len(self.idx_to_token) - 1\n",
    "\n",
    "    def __len__(self):\n",
    "        return len(self.idx_to_token)\n",
    "\n",
    "    def __getitem__(self, tokens):\n",
    "        if not isinstance(tokens, (list, tuple)):\n",
    "            return self.token_to_idx.get(tokens, self.unk)\n",
    "        return [self.__getitem__(token) for token in tokens]\n",
    "\n",
    "    def to_tokens(self, indices):\n",
    "        if not isinstance(indices, (list, tuple)):\n",
    "            return self.idx_to_token[indices]\n",
    "        return [self.idx_to_token[index] for index in indices]\n",
    "\n",
    "    @property\n",
    "    def unk(self):  # 未知词元的索引为0\n",
    "        return 0\n",
    "\n",
    "    @property\n",
    "    def token_freqs(self):\n",
    "        return self._token_freqs\n",
    "\n",
    "def count_corpus(tokens):  #@save\n",
    "    \"\"\"统计词元的频率\"\"\"\n",
    "    # 这里的tokens是1D列表或2D列表\n",
    "    if len(tokens) == 0 or isinstance(tokens[0], list):\n",
    "        # 将词元列表展平成一个列表\n",
    "        tokens = [token for line in tokens for token in line]\n",
    "    return collections.Counter(tokens)"
   ]
  },
  {
   "cell_type": "markdown",
   "id": "9107bb55",
   "metadata": {
    "ExecuteTime": {
     "end_time": "2023-08-09T03:05:10.594087Z",
     "start_time": "2023-08-09T03:05:10.581820Z"
    }
   },
   "source": [
    "构建词汇表"
   ]
  },
  {
   "cell_type": "code",
   "execution_count": 39,
   "id": "7e0d049c",
   "metadata": {
    "ExecuteTime": {
     "end_time": "2023-08-09T04:08:01.370569Z",
     "start_time": "2023-08-09T04:08:01.347361Z"
    }
   },
   "outputs": [
    {
     "name": "stdout",
     "output_type": "stream",
     "text": [
      "[('<unk>', 0), ('the', 1), ('i', 2), ('and', 3), ('of', 4), ('a', 5), ('to', 6), ('was', 7), ('in', 8), ('that', 9)]\n"
     ]
    }
   ],
   "source": [
    "vocab = Vocab(tokens)\n",
    "print(list(vocab.token_to_idx.items())[:10])"
   ]
  },
  {
   "cell_type": "markdown",
   "id": "046fc6e3",
   "metadata": {
    "ExecuteTime": {
     "end_time": "2023-08-09T03:10:00.583815Z",
     "start_time": "2023-08-09T03:10:00.549566Z"
    }
   },
   "source": [
    "打包所有功能"
   ]
  },
  {
   "cell_type": "code",
   "execution_count": 40,
   "id": "b5a40c4e",
   "metadata": {
    "ExecuteTime": {
     "end_time": "2023-08-09T04:09:12.522190Z",
     "start_time": "2023-08-09T04:09:12.433693Z"
    }
   },
   "outputs": [
    {
     "data": {
      "text/plain": [
       "(170580, 28)"
      ]
     },
     "execution_count": 40,
     "metadata": {},
     "output_type": "execute_result"
    }
   ],
   "source": [
    "def load_corpus_time_machine(max_tokens=-1):  #@save\n",
    "    \"\"\"返回时光机器数据集的词元索引列表和词表\"\"\"\n",
    "    lines = read_time_machine()\n",
    "    tokens = tokenize(lines, 'char')\n",
    "    vocab = Vocab(tokens)\n",
    "    # 因为时光机器数据集中的每个文本行不一定是一个句子或一个段落，\n",
    "    # 所以将所有文本行展平到一个列表中\n",
    "    corpus = [vocab[token] for line in tokens for token in line]\n",
    "    if max_tokens > 0:\n",
    "        corpus = corpus[:max_tokens]\n",
    "    return corpus, vocab\n",
    "\n",
    "corpus, vocab = load_corpus_time_machine()\n",
    "len(corpus), len(vocab)"
   ]
  },
  {
   "cell_type": "code",
   "execution_count": 44,
   "id": "f7b0ebc0",
   "metadata": {
    "ExecuteTime": {
     "end_time": "2023-08-09T04:10:52.531429Z",
     "start_time": "2023-08-09T04:10:52.513654Z"
    }
   },
   "outputs": [
    {
     "data": {
      "text/plain": [
       "{'<unk>': 0,\n",
       " ' ': 1,\n",
       " 'e': 2,\n",
       " 't': 3,\n",
       " 'a': 4,\n",
       " 'i': 5,\n",
       " 'n': 6,\n",
       " 'o': 7,\n",
       " 's': 8,\n",
       " 'h': 9,\n",
       " 'r': 10,\n",
       " 'd': 11,\n",
       " 'l': 12,\n",
       " 'm': 13,\n",
       " 'u': 14,\n",
       " 'c': 15,\n",
       " 'f': 16,\n",
       " 'w': 17,\n",
       " 'g': 18,\n",
       " 'y': 19,\n",
       " 'p': 20,\n",
       " 'b': 21,\n",
       " 'v': 22,\n",
       " 'k': 23,\n",
       " 'x': 24,\n",
       " 'z': 25,\n",
       " 'j': 26,\n",
       " 'q': 27}"
      ]
     },
     "execution_count": 44,
     "metadata": {},
     "output_type": "execute_result"
    }
   ],
   "source": [
    "vocab.token_to_idx"
   ]
  }
 ],
 "metadata": {
  "kernelspec": {
   "display_name": "d2l",
   "language": "python",
   "name": "d2l"
  },
  "language_info": {
   "codemirror_mode": {
    "name": "ipython",
    "version": 3
   },
   "file_extension": ".py",
   "mimetype": "text/x-python",
   "name": "python",
   "nbconvert_exporter": "python",
   "pygments_lexer": "ipython3",
   "version": "3.8.17"
  }
 },
 "nbformat": 4,
 "nbformat_minor": 5
}
