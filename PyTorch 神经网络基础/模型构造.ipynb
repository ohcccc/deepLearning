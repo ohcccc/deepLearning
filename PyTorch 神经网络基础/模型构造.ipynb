{
 "cells": [
  {
   "cell_type": "markdown",
   "id": "42b791e3",
   "metadata": {},
   "source": [
    "# 层和块\n",
    "回顾一下多层感知机"
   ]
  },
  {
   "cell_type": "code",
   "execution_count": 1,
   "id": "09fd72e7",
   "metadata": {
    "ExecuteTime": {
     "end_time": "2023-07-04T10:02:08.754420Z",
     "start_time": "2023-07-04T10:02:08.735887Z"
    }
   },
   "outputs": [
    {
     "data": {
      "text/plain": [
       "tensor([[ 0.2104,  0.0102, -0.2692,  0.0847, -0.0219, -0.0952,  0.1185, -0.0125,\n",
       "         -0.1051,  0.0842],\n",
       "        [ 0.1741,  0.0097, -0.1103, -0.0171, -0.0202, -0.2051,  0.0967, -0.0929,\n",
       "         -0.1254,  0.1742]], grad_fn=<AddmmBackward0>)"
      ]
     },
     "execution_count": 1,
     "metadata": {},
     "output_type": "execute_result"
    }
   ],
   "source": [
    "import torch\n",
    "from torch import nn\n",
    "from torch.nn import functional as F\n",
    "\n",
    "net = nn.Sequential(nn.Linear(20, 256), nn.ReLU(), nn.Linear(256, 10))\n",
    "\n",
    "X = torch.rand(2, 20)\n",
    "net(X)"
   ]
  },
  {
   "cell_type": "markdown",
   "id": "204a0239",
   "metadata": {},
   "source": [
    "自定义类"
   ]
  },
  {
   "cell_type": "code",
   "execution_count": 7,
   "id": "164754d2",
   "metadata": {
    "ExecuteTime": {
     "end_time": "2023-07-04T10:25:51.615519Z",
     "start_time": "2023-07-04T10:25:51.597064Z"
    }
   },
   "outputs": [],
   "source": [
    "class MLP(nn.Module):\n",
    "    def __init__(self):\n",
    "        super().__init__()#调用父类的初始化\n",
    "        self.hidden = nn.Linear(20,256)\n",
    "        self.out = nn.Linear(256,10)\n",
    "    def forward(self,x):\n",
    "        return self.out(F.relu(self.hidden(x)))"
   ]
  },
  {
   "cell_type": "markdown",
   "id": "a735fcc7",
   "metadata": {
    "ExecuteTime": {
     "end_time": "2023-07-04T10:24:00.307314Z",
     "start_time": "2023-07-04T10:24:00.275314Z"
    }
   },
   "source": [
    "实例化多层感知机"
   ]
  },
  {
   "cell_type": "code",
   "execution_count": 8,
   "id": "47968f98",
   "metadata": {
    "ExecuteTime": {
     "end_time": "2023-07-04T10:27:25.965474Z",
     "start_time": "2023-07-04T10:27:25.945991Z"
    }
   },
   "outputs": [
    {
     "data": {
      "text/plain": [
       "tensor([[-0.0769, -0.2405,  0.0901,  0.0908,  0.0519,  0.0228, -0.0103,  0.0335,\n",
       "         -0.0768,  0.0627],\n",
       "        [-0.1329, -0.0997,  0.0721,  0.0366, -0.0410, -0.0086,  0.0506, -0.0172,\n",
       "         -0.0947,  0.0748]], grad_fn=<AddmmBackward0>)"
      ]
     },
     "execution_count": 8,
     "metadata": {},
     "output_type": "execute_result"
    }
   ],
   "source": [
    "net = MLP()\n",
    "net(X)"
   ]
  },
  {
   "cell_type": "markdown",
   "id": "621cd850",
   "metadata": {},
   "source": [
    "顺序块"
   ]
  },
  {
   "cell_type": "code",
   "execution_count": 9,
   "id": "94df7f02",
   "metadata": {
    "ExecuteTime": {
     "end_time": "2023-07-04T11:57:33.465901Z",
     "start_time": "2023-07-04T11:57:33.446933Z"
    }
   },
   "outputs": [
    {
     "data": {
      "text/plain": [
       "tensor([[ 0.1135,  0.0799, -0.1876, -0.0242,  0.0363, -0.0275,  0.0530, -0.1528,\n",
       "          0.0425,  0.0302],\n",
       "        [ 0.1175, -0.0742, -0.1830, -0.1238,  0.0255, -0.1616,  0.0127, -0.2473,\n",
       "          0.1911,  0.0455]], grad_fn=<AddmmBackward0>)"
      ]
     },
     "execution_count": 9,
     "metadata": {},
     "output_type": "execute_result"
    }
   ],
   "source": [
    "class MySequential(nn.Module):\n",
    "    def __init__(self, *args):\n",
    "        super().__init__()\n",
    "        for idx, module in enumerate(args):\n",
    "            # 这里，module是Module子类的一个实例。我们把它保存在'Module'类的成员\n",
    "            # 变量_modules中。_module的类型是OrderedDict\n",
    "            self._modules[str(idx)] = module\n",
    "\n",
    "    def forward(self, X):\n",
    "        # OrderedDict保证了按照成员添加的顺序遍历它们\n",
    "        for block in self._modules.values():\n",
    "            X = block(X)\n",
    "        return X\n",
    "net = MySequential(nn.Linear(20, 256), nn.ReLU(), nn.Linear(256, 10))\n",
    "net(X)"
   ]
  },
  {
   "cell_type": "markdown",
   "id": "4fcf7560",
   "metadata": {},
   "source": [
    "nn.Module初始化后创造出的Net必须有的字典属性：  \n",
    "_parameters  \n",
    "_modules  \n",
    "_buffers  \n",
    "_backward_hooks  \n",
    "_forward_hooks  \n",
    "_forward_pre_hooks  \n",
    "_state_dict_hooks  \n",
    "_load_state_dict_pre_hooks  "
   ]
  },
  {
   "cell_type": "markdown",
   "id": "f6576b3d",
   "metadata": {
    "ExecuteTime": {
     "end_time": "2023-07-04T11:58:11.649678Z",
     "start_time": "2023-07-04T11:58:11.637678Z"
    }
   },
   "source": [
    "在正向传播代码中执行代码"
   ]
  },
  {
   "cell_type": "code",
   "execution_count": 15,
   "id": "53fddf1c",
   "metadata": {
    "ExecuteTime": {
     "end_time": "2023-07-04T12:02:33.520968Z",
     "start_time": "2023-07-04T12:02:33.498237Z"
    }
   },
   "outputs": [
    {
     "data": {
      "text/plain": [
       "tensor(-0.0049, grad_fn=<SumBackward0>)"
      ]
     },
     "execution_count": 15,
     "metadata": {},
     "output_type": "execute_result"
    }
   ],
   "source": [
    "class FixedHiddenMLP(nn.Module):\n",
    "    def __init__(self):\n",
    "        super().__init__()\n",
    "        # 不计算梯度的随机权重参数。因此其在训练期间保持不变\n",
    "        self.rand_weight = torch.rand((20, 20), requires_grad=False)\n",
    "        self.linear = nn.Linear(20, 20)\n",
    "\n",
    "    def forward(self, X):\n",
    "        X = self.linear(X)\n",
    "        # 使用创建的常量参数以及relu和mm函数\n",
    "        X = F.relu(torch.mm(X, self.rand_weight) + 1)\n",
    "        # 复用全连接层。这相当于两个全连接层共享参数\n",
    "        X = self.linear(X)\n",
    "        # 控制流\n",
    "        while X.abs().sum() > 1:\n",
    "            X /= 2\n",
    "        return X.sum()\n",
    "net = FixedHiddenMLP()\n",
    "net(X)"
   ]
  },
  {
   "cell_type": "markdown",
   "id": "b099c191",
   "metadata": {},
   "source": [
    "混合搭配各种组合块"
   ]
  },
  {
   "cell_type": "code",
   "execution_count": 16,
   "id": "3e1afad7",
   "metadata": {
    "ExecuteTime": {
     "end_time": "2023-07-04T12:05:09.063806Z",
     "start_time": "2023-07-04T12:05:09.056011Z"
    }
   },
   "outputs": [
    {
     "data": {
      "text/plain": [
       "tensor(0.0202, grad_fn=<SumBackward0>)"
      ]
     },
     "execution_count": 16,
     "metadata": {},
     "output_type": "execute_result"
    }
   ],
   "source": [
    "class NestMLP(nn.Module):\n",
    "    def __init__(self):\n",
    "        super().__init__()\n",
    "        self.net = nn.Sequential(nn.Linear(20, 64), nn.ReLU(),\n",
    "                                 nn.Linear(64, 32), nn.ReLU())\n",
    "        self.linear = nn.Linear(32, 16)\n",
    "\n",
    "    def forward(self, X):\n",
    "        return self.linear(self.net(X))\n",
    "\n",
    "chimera = nn.Sequential(NestMLP(), nn.Linear(16, 20), FixedHiddenMLP())\n",
    "chimera(X)"
   ]
  },
  {
   "cell_type": "code",
   "execution_count": null,
   "id": "3ca8ff7b",
   "metadata": {},
   "outputs": [],
   "source": []
  }
 ],
 "metadata": {
  "kernelspec": {
   "display_name": "python pytorch",
   "language": "python",
   "name": "pytorch"
  },
  "language_info": {
   "codemirror_mode": {
    "name": "ipython",
    "version": 3
   },
   "file_extension": ".py",
   "mimetype": "text/x-python",
   "name": "python",
   "nbconvert_exporter": "python",
   "pygments_lexer": "ipython3",
   "version": "3.8.16"
  },
  "varInspector": {
   "cols": {
    "lenName": 16,
    "lenType": 16,
    "lenVar": 40
   },
   "kernels_config": {
    "python": {
     "delete_cmd_postfix": "",
     "delete_cmd_prefix": "del ",
     "library": "var_list.py",
     "varRefreshCmd": "print(var_dic_list())"
    },
    "r": {
     "delete_cmd_postfix": ") ",
     "delete_cmd_prefix": "rm(",
     "library": "var_list.r",
     "varRefreshCmd": "cat(var_dic_list()) "
    }
   },
   "types_to_exclude": [
    "module",
    "function",
    "builtin_function_or_method",
    "instance",
    "_Feature"
   ],
   "window_display": false
  }
 },
 "nbformat": 4,
 "nbformat_minor": 5
}
