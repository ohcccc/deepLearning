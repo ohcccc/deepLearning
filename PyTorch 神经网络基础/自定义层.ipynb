{
 "cells": [
  {
   "cell_type": "markdown",
   "id": "c7ecd100",
   "metadata": {},
   "source": [
    "# 自定义层"
   ]
  },
  {
   "cell_type": "code",
   "execution_count": 2,
   "id": "cf3828c3",
   "metadata": {
    "ExecuteTime": {
     "end_time": "2023-07-05T06:53:01.001584Z",
     "start_time": "2023-07-05T06:53:00.936765Z"
    }
   },
   "outputs": [
    {
     "data": {
      "text/plain": [
       "tensor([-2., -1.,  0.,  1.,  2.])"
      ]
     },
     "execution_count": 2,
     "metadata": {},
     "output_type": "execute_result"
    }
   ],
   "source": [
    "import torch\n",
    "import torch.nn.functional as F\n",
    "from torch import nn\n",
    "\n",
    "\n",
    "class CenteredLayer(nn.Module):\n",
    "    def __init__(self):\n",
    "        super().__init__()\n",
    "\n",
    "    def forward(self, X):\n",
    "        return X - X.mean()\n",
    "layer = CenteredLayer()\n",
    "layer(torch.FloatTensor([1, 2, 3, 4, 5]))"
   ]
  },
  {
   "cell_type": "markdown",
   "id": "76aaf4d1",
   "metadata": {},
   "source": [
    "将层作为组件合并到更为复杂的模型中"
   ]
  },
  {
   "cell_type": "code",
   "execution_count": 3,
   "id": "b2716b40",
   "metadata": {
    "ExecuteTime": {
     "end_time": "2023-07-05T06:54:11.680185Z",
     "start_time": "2023-07-05T06:54:11.642187Z"
    }
   },
   "outputs": [
    {
     "data": {
      "text/plain": [
       "tensor(3.4925e-10, grad_fn=<MeanBackward0>)"
      ]
     },
     "execution_count": 3,
     "metadata": {},
     "output_type": "execute_result"
    }
   ],
   "source": [
    "net = nn.Sequential(nn.Linear(8, 128), CenteredLayer())\n",
    "Y = net(torch.rand(4, 8))\n",
    "Y.mean()"
   ]
  },
  {
   "cell_type": "markdown",
   "id": "ab4bc70d",
   "metadata": {},
   "source": [
    "带参数的图层"
   ]
  },
  {
   "cell_type": "code",
   "execution_count": 4,
   "id": "cf9c876f",
   "metadata": {
    "ExecuteTime": {
     "end_time": "2023-07-05T06:56:18.550348Z",
     "start_time": "2023-07-05T06:56:18.538350Z"
    }
   },
   "outputs": [
    {
     "data": {
      "text/plain": [
       "Parameter containing:\n",
       "tensor([[-0.9613, -0.0739, -0.8650],\n",
       "        [ 2.3774, -0.7808, -0.4352],\n",
       "        [ 0.4664, -1.2717, -2.7288],\n",
       "        [ 1.6188,  1.5535, -0.8508],\n",
       "        [ 0.4836,  0.2692, -1.4509]], requires_grad=True)"
      ]
     },
     "execution_count": 4,
     "metadata": {},
     "output_type": "execute_result"
    }
   ],
   "source": [
    "class MyLinear(nn.Module):\n",
    "    def __init__(self, in_units, units):\n",
    "        super().__init__()\n",
    "        self.weight = nn.Parameter(torch.randn(in_units, units))\n",
    "        self.bias = nn.Parameter(torch.randn(units,))\n",
    "    def forward(self, X):\n",
    "        linear = torch.matmul(X, self.weight.data) + self.bias.data\n",
    "        return F.relu(linear)\n",
    "linear = MyLinear(5, 3)\n",
    "linear.weight"
   ]
  },
  {
   "cell_type": "code",
   "execution_count": 5,
   "id": "fc9d796e",
   "metadata": {
    "ExecuteTime": {
     "end_time": "2023-07-05T06:57:26.576215Z",
     "start_time": "2023-07-05T06:57:26.550480Z"
    }
   },
   "outputs": [
    {
     "data": {
      "text/plain": [
       "tensor([[2.4899, 0.0000, 0.0000],\n",
       "        [3.7475, 0.0000, 0.0000]])"
      ]
     },
     "execution_count": 5,
     "metadata": {},
     "output_type": "execute_result"
    }
   ],
   "source": [
    "linear(torch.rand(2, 5))"
   ]
  },
  {
   "cell_type": "code",
   "execution_count": null,
   "id": "90d776a4",
   "metadata": {},
   "outputs": [],
   "source": []
  }
 ],
 "metadata": {
  "kernelspec": {
   "display_name": "python pytorch",
   "language": "python",
   "name": "pytorch"
  },
  "language_info": {
   "codemirror_mode": {
    "name": "ipython",
    "version": 3
   },
   "file_extension": ".py",
   "mimetype": "text/x-python",
   "name": "python",
   "nbconvert_exporter": "python",
   "pygments_lexer": "ipython3",
   "version": "3.8.16"
  },
  "varInspector": {
   "cols": {
    "lenName": 16,
    "lenType": 16,
    "lenVar": 40
   },
   "kernels_config": {
    "python": {
     "delete_cmd_postfix": "",
     "delete_cmd_prefix": "del ",
     "library": "var_list.py",
     "varRefreshCmd": "print(var_dic_list())"
    },
    "r": {
     "delete_cmd_postfix": ") ",
     "delete_cmd_prefix": "rm(",
     "library": "var_list.r",
     "varRefreshCmd": "cat(var_dic_list()) "
    }
   },
   "types_to_exclude": [
    "module",
    "function",
    "builtin_function_or_method",
    "instance",
    "_Feature"
   ],
   "window_display": true
  }
 },
 "nbformat": 4,
 "nbformat_minor": 5
}
