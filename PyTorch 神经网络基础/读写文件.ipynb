{
 "cells": [
  {
   "cell_type": "markdown",
   "id": "69a74901",
   "metadata": {},
   "source": [
    "# 读写文件\n",
    "加载和保存张量"
   ]
  },
  {
   "cell_type": "code",
   "execution_count": 1,
   "id": "da464f1b",
   "metadata": {
    "ExecuteTime": {
     "end_time": "2023-07-05T09:38:32.587576Z",
     "start_time": "2023-07-05T09:38:31.485624Z"
    }
   },
   "outputs": [],
   "source": [
    "import torch\n",
    "from torch import nn\n",
    "from torch.nn import functional as F\n",
    "\n",
    "x = torch.arange(4)\n",
    "torch.save(x, 'x-file')"
   ]
  },
  {
   "cell_type": "code",
   "execution_count": 2,
   "id": "2f9bcf46",
   "metadata": {
    "ExecuteTime": {
     "end_time": "2023-07-05T09:38:41.928470Z",
     "start_time": "2023-07-05T09:38:41.907471Z"
    }
   },
   "outputs": [
    {
     "data": {
      "text/plain": [
       "tensor([0, 1, 2, 3])"
      ]
     },
     "execution_count": 2,
     "metadata": {},
     "output_type": "execute_result"
    }
   ],
   "source": [
    "x2 = torch.load('x-file')\n",
    "x2"
   ]
  },
  {
   "cell_type": "markdown",
   "id": "0e96f9b8",
   "metadata": {},
   "source": [
    "存储一个张量列表，把它们读回内存"
   ]
  },
  {
   "cell_type": "code",
   "execution_count": 3,
   "id": "7f096008",
   "metadata": {
    "ExecuteTime": {
     "end_time": "2023-07-05T09:40:36.759586Z",
     "start_time": "2023-07-05T09:40:36.745257Z"
    }
   },
   "outputs": [],
   "source": [
    "y = torch.zeros(4)\n",
    "torch.save([x,y],'x-files')"
   ]
  },
  {
   "cell_type": "code",
   "execution_count": 4,
   "id": "cbb1053b",
   "metadata": {
    "ExecuteTime": {
     "end_time": "2023-07-05T09:40:47.433287Z",
     "start_time": "2023-07-05T09:40:47.415968Z"
    }
   },
   "outputs": [
    {
     "data": {
      "text/plain": [
       "(tensor([0, 1, 2, 3]), tensor([0., 0., 0., 0.]))"
      ]
     },
     "execution_count": 4,
     "metadata": {},
     "output_type": "execute_result"
    }
   ],
   "source": [
    "x2, y2 = torch.load('x-files')\n",
    "(x2, y2)"
   ]
  },
  {
   "cell_type": "markdown",
   "id": "4d15cf8a",
   "metadata": {},
   "source": [
    "写入或读取从字符串映射到张量的字典"
   ]
  },
  {
   "cell_type": "code",
   "execution_count": 5,
   "id": "eaebf018",
   "metadata": {
    "ExecuteTime": {
     "end_time": "2023-07-05T09:41:54.722408Z",
     "start_time": "2023-07-05T09:41:54.705373Z"
    }
   },
   "outputs": [
    {
     "data": {
      "text/plain": [
       "{'x': tensor([0, 1, 2, 3]), 'y': tensor([0., 0., 0., 0.])}"
      ]
     },
     "execution_count": 5,
     "metadata": {},
     "output_type": "execute_result"
    }
   ],
   "source": [
    "mydict = {'x': x, 'y': y}\n",
    "torch.save(mydict, 'mydict')\n",
    "mydict2 = torch.load('mydict')\n",
    "mydict2"
   ]
  },
  {
   "cell_type": "markdown",
   "id": "17eb665e",
   "metadata": {},
   "source": [
    "加载和保存模型参数"
   ]
  },
  {
   "cell_type": "code",
   "execution_count": 6,
   "id": "068bdbba",
   "metadata": {
    "ExecuteTime": {
     "end_time": "2023-07-05T09:47:53.478490Z",
     "start_time": "2023-07-05T09:47:53.461491Z"
    }
   },
   "outputs": [],
   "source": [
    "class MLP(nn.Module):\n",
    "    def __init__(self):\n",
    "        super().__init__()\n",
    "        self.hidden = nn.Linear(20, 256)\n",
    "        self.output = nn.Linear(256, 10)\n",
    "\n",
    "    def forward(self, x):\n",
    "        return self.output(F.relu(self.hidden(x)))\n",
    "\n",
    "net = MLP()\n",
    "X = torch.randn(size=(2, 20))\n",
    "Y = net(X)"
   ]
  },
  {
   "cell_type": "markdown",
   "id": "9357e404",
   "metadata": {},
   "source": [
    "将模型参数存储为“mlp.params”文件"
   ]
  },
  {
   "cell_type": "code",
   "execution_count": 7,
   "id": "fab51792",
   "metadata": {
    "ExecuteTime": {
     "end_time": "2023-07-05T09:49:16.685296Z",
     "start_time": "2023-07-05T09:49:16.666297Z"
    }
   },
   "outputs": [],
   "source": [
    "torch.save(net.state_dict(),'mlp.params')"
   ]
  },
  {
   "cell_type": "markdown",
   "id": "6d96c989",
   "metadata": {},
   "source": [
    "实例化了原始多层感知机模型的一个备份,读取文件中存储的参数"
   ]
  },
  {
   "cell_type": "code",
   "execution_count": 9,
   "id": "3abd0c0d",
   "metadata": {
    "ExecuteTime": {
     "end_time": "2023-07-05T10:04:43.016844Z",
     "start_time": "2023-07-05T10:04:42.998446Z"
    }
   },
   "outputs": [
    {
     "data": {
      "text/plain": [
       "MLP(\n",
       "  (hidden): Linear(in_features=20, out_features=256, bias=True)\n",
       "  (output): Linear(in_features=256, out_features=10, bias=True)\n",
       ")"
      ]
     },
     "execution_count": 9,
     "metadata": {},
     "output_type": "execute_result"
    }
   ],
   "source": [
    "clone = MLP()\n",
    "clone.load_state_dict(torch.load('mlp.params'))\n",
    "clone"
   ]
  },
  {
   "cell_type": "code",
   "execution_count": 10,
   "id": "d9ce20f6",
   "metadata": {
    "ExecuteTime": {
     "end_time": "2023-07-05T10:04:49.769911Z",
     "start_time": "2023-07-05T10:04:49.754719Z"
    }
   },
   "outputs": [
    {
     "data": {
      "text/plain": [
       "tensor([[True, True, True, True, True, True, True, True, True, True],\n",
       "        [True, True, True, True, True, True, True, True, True, True]])"
      ]
     },
     "execution_count": 10,
     "metadata": {},
     "output_type": "execute_result"
    }
   ],
   "source": [
    "Y_clone = clone(X)\n",
    "Y_clone == Y"
   ]
  },
  {
   "cell_type": "code",
   "execution_count": null,
   "id": "809da8ad",
   "metadata": {},
   "outputs": [],
   "source": []
  }
 ],
 "metadata": {
  "kernelspec": {
   "display_name": "python pytorch",
   "language": "python",
   "name": "pytorch"
  },
  "language_info": {
   "codemirror_mode": {
    "name": "ipython",
    "version": 3
   },
   "file_extension": ".py",
   "mimetype": "text/x-python",
   "name": "python",
   "nbconvert_exporter": "python",
   "pygments_lexer": "ipython3",
   "version": "3.8.16"
  },
  "varInspector": {
   "cols": {
    "lenName": 16,
    "lenType": 16,
    "lenVar": 40
   },
   "kernels_config": {
    "python": {
     "delete_cmd_postfix": "",
     "delete_cmd_prefix": "del ",
     "library": "var_list.py",
     "varRefreshCmd": "print(var_dic_list())"
    },
    "r": {
     "delete_cmd_postfix": ") ",
     "delete_cmd_prefix": "rm(",
     "library": "var_list.r",
     "varRefreshCmd": "cat(var_dic_list()) "
    }
   },
   "types_to_exclude": [
    "module",
    "function",
    "builtin_function_or_method",
    "instance",
    "_Feature"
   ],
   "window_display": true
  }
 },
 "nbformat": 4,
 "nbformat_minor": 5
}
